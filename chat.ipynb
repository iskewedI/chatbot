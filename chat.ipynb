{
 "cells": [
  {
   "cell_type": "code",
   "execution_count": 4,
   "metadata": {},
   "outputs": [],
   "source": [
    "from keras.saving import load_model\n",
    "from utils import vectorize_stories\n",
    "import json\n",
    "import numpy as np\n",
    "\n",
    "# Load and instantiate keras model\n",
    "model = load_model(\"saved_model/chatbot_100_epochs.keras\")\n",
    "\n",
    "# Load tokenizer data\n",
    "with open(\"saved_model/tokenizer.json\") as f:\n",
    "    tokenizer_data = json.load(f)\n",
    "\n",
    "tokenizer_word_index = tokenizer_data[\"word_index\"]\n",
    "max_story_len = tokenizer_data[\"max_story_len\"]\n",
    "max_question_len = tokenizer_data[\"max_question_len\"]"
   ]
  },
  {
   "cell_type": "code",
   "execution_count": null,
   "metadata": {},
   "outputs": [],
   "source": [
    "# We need to keep space between puntuactions as the data used to train was in this format\n",
    "my_story = \"John left the kitchen . Sandra dropped the football in the garden .\"\n",
    "my_question = \"Is the football in the garden ?\"\n",
    "my_correct_answer = \"yes\"\n",
    "\n",
    "# Set data to expected model input shape\n",
    "my_data = [(my_story.split(), my_question.split(), my_correct_answer)] # Story, question and answer\n",
    "\n",
    "# Vectorize text\n",
    "my_story_vec, my_question_vec, my_answer_vec = vectorize_stories(my_data,\n",
    "                                                                 tokenizer_word_index,\n",
    "                                                                 max_story_len,\n",
    "                                                                 max_question_len)"
   ]
  },
  {
   "cell_type": "code",
   "execution_count": 5,
   "metadata": {},
   "outputs": [
    {
     "name": "stdout",
     "output_type": "stream",
     "text": [
      "\u001b[1m1/1\u001b[0m \u001b[32m━━━━━━━━━━━━━━━━━━━━\u001b[0m\u001b[37m\u001b[0m \u001b[1m0s\u001b[0m 110ms/step\n",
      "Predicted with a 0.679633617401123 certainty\n",
      "Is the football in the garden ?: yes\n",
      "Was correct?: True\n"
     ]
    }
   ],
   "source": [
    "# Model prediction\n",
    "pred_results = model.predict([my_story_vec, my_question_vec])\n",
    "\n",
    "# Get prediction with max certainty\n",
    "result = np.argmax(pred_results[0])\n",
    "\n",
    "# Get the actual parsed tokenizer value\n",
    "for key, val in tokenizer_word_index.items():\n",
    "    if val == result:\n",
    "        result_text = key\n",
    "\n",
    "# Print results\n",
    "print(f\"Predicted with a {pred_results[0][result]} certainty\")\n",
    "print(f\"{my_question}: {result_text}\")\n",
    "print(f\"Was correct?: {result_text == my_correct_answer}\")"
   ]
  }
 ],
 "metadata": {
  "kernelspec": {
   "display_name": "venv",
   "language": "python",
   "name": "python3"
  },
  "language_info": {
   "codemirror_mode": {
    "name": "ipython",
    "version": 3
   },
   "file_extension": ".py",
   "mimetype": "text/x-python",
   "name": "python",
   "nbconvert_exporter": "python",
   "pygments_lexer": "ipython3",
   "version": "3.10.9"
  }
 },
 "nbformat": 4,
 "nbformat_minor": 2
}
